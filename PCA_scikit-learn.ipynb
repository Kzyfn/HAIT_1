{
 "cells": [
  {
   "cell_type": "code",
   "execution_count": 2,
   "metadata": {
    "collapsed": true
   },
   "outputs": [],
   "source": [
    "import pandas as pd"
   ]
  },
  {
   "cell_type": "code",
   "execution_count": 3,
   "metadata": {
    "collapsed": true
   },
   "outputs": [],
   "source": [
    "df = pd.read_csv(\"train-2.csv\")"
   ]
  },
  {
   "cell_type": "code",
   "execution_count": 4,
   "metadata": {},
   "outputs": [
    {
     "data": {
      "text/plain": [
       "Id                                    0\n",
       "Elevation                             0\n",
       "Aspect                                0\n",
       "Slope                                 0\n",
       "Horizontal_Distance_To_Hydrology      0\n",
       "Vertical_Distance_To_Hydrology        0\n",
       "Horizontal_Distance_To_Roadways       0\n",
       "Hillshade_9am                         0\n",
       "Hillshade_Noon                        0\n",
       "Hillshade_3pm                         0\n",
       "Horizontal_Distance_To_Fire_Points    0\n",
       "Wilderness_Area1                      0\n",
       "Wilderness_Area2                      0\n",
       "Wilderness_Area3                      0\n",
       "Wilderness_Area4                      0\n",
       "Soil_Type1                            0\n",
       "Soil_Type2                            0\n",
       "Soil_Type3                            0\n",
       "Soil_Type4                            0\n",
       "Soil_Type5                            0\n",
       "Soil_Type6                            0\n",
       "Soil_Type7                            0\n",
       "Soil_Type8                            0\n",
       "Soil_Type9                            0\n",
       "Soil_Type10                           0\n",
       "Soil_Type11                           0\n",
       "Soil_Type12                           0\n",
       "Soil_Type13                           0\n",
       "Soil_Type14                           0\n",
       "Soil_Type15                           0\n",
       "Soil_Type16                           0\n",
       "Soil_Type17                           0\n",
       "Soil_Type18                           0\n",
       "Soil_Type19                           0\n",
       "Soil_Type20                           0\n",
       "Soil_Type21                           0\n",
       "Soil_Type22                           0\n",
       "Soil_Type23                           0\n",
       "Soil_Type24                           0\n",
       "Soil_Type25                           0\n",
       "Soil_Type26                           0\n",
       "Soil_Type27                           0\n",
       "Soil_Type28                           0\n",
       "Soil_Type29                           0\n",
       "Soil_Type30                           0\n",
       "Soil_Type31                           0\n",
       "Soil_Type32                           0\n",
       "Soil_Type33                           0\n",
       "Soil_Type34                           0\n",
       "Soil_Type35                           0\n",
       "Soil_Type36                           0\n",
       "Soil_Type37                           0\n",
       "Soil_Type38                           0\n",
       "Soil_Type39                           0\n",
       "Soil_Type40                           0\n",
       "Cover_Type                            0\n",
       "dtype: int64"
      ]
     },
     "execution_count": 4,
     "metadata": {},
     "output_type": "execute_result"
    }
   ],
   "source": [
    "df.isnull().sum()"
   ]
  },
  {
   "cell_type": "code",
   "execution_count": 23,
   "metadata": {
    "collapsed": true
   },
   "outputs": [],
   "source": [
    "# 1列目のage列〜4列までのeducation列までを範囲選択\n",
    "X = df.loc[:, \"Id\" : \"Soil_Type40\"]"
   ]
  },
  {
   "cell_type": "code",
   "execution_count": 24,
   "metadata": {
    "collapsed": true
   },
   "outputs": [],
   "source": [
    "y = df.loc[:,\"Cover_Type\"]"
   ]
  },
  {
   "cell_type": "code",
   "execution_count": 25,
   "metadata": {
    "collapsed": true
   },
   "outputs": [],
   "source": [
    "import numpy as np\n",
    "import matplotlib.pyplot as plt\n",
    "% matplotlib inline"
   ]
  },
  {
   "cell_type": "code",
   "execution_count": 26,
   "metadata": {
    "collapsed": true
   },
   "outputs": [],
   "source": [
    "# データの標準化\n",
    "from sklearn.preprocessing import StandardScaler\n",
    "scaler = StandardScaler()\n",
    "scaler.fit(X)                   # 与えられた行列の各特徴量について､平均と標準偏差を算出\n",
    "X_std = scaler.fit_transform(X) \n",
    "#scaler.fit(y)\n",
    "#y_std=scaler.fit_transform(y)"
   ]
  },
  {
   "cell_type": "code",
   "execution_count": 27,
   "metadata": {
    "collapsed": true
   },
   "outputs": [],
   "source": [
    "#ライブラリをインポート\n",
    "import numpy as np\n",
    "import pandas as pd\n",
    "import matplotlib.pyplot as plt\n",
    "%matplotlib inline\n",
    "from sklearn.model_selection import train_test_split"
   ]
  },
  {
   "cell_type": "code",
   "execution_count": 47,
   "metadata": {},
   "outputs": [
    {
     "data": {
      "text/plain": [
       "array([[-2.18394454,  2.91461362, -2.71500141, ..., -0.01751123,\n",
       "         0.01005081,  0.01956417],\n",
       "       [-2.15529519,  2.83903249, -2.89179575, ..., -0.02198374,\n",
       "         0.00897624,  0.020893  ],\n",
       "       [-2.97151825,  2.83464541, -2.56011621, ..., -1.02240366,\n",
       "         0.2651305 ,  0.32665752],\n",
       "       ..., \n",
       "       [ 0.5361217 , -0.42911169,  2.74297697, ...,  0.16075813,\n",
       "         0.05948334,  0.04657638],\n",
       "       [ 0.62926357, -1.22256704,  1.91745569, ...,  0.14269987,\n",
       "         0.05430833,  0.04271136],\n",
       "       [ 0.67371058, -2.16665241,  1.16934686, ..., -0.10437834,\n",
       "         0.23439289,  0.04569864]])"
      ]
     },
     "execution_count": 47,
     "metadata": {},
     "output_type": "execute_result"
    }
   ],
   "source": [
    "# 主成分分析を実行\n",
    "from sklearn.decomposition import PCA\n",
    "pca = PCA(n_components=33) # 主成分を2つまで取得\n",
    "X_pca = pca.fit_transform(X_std)\n",
    "X_pca"
   ]
  },
  {
   "cell_type": "code",
   "execution_count": 48,
   "metadata": {},
   "outputs": [
    {
     "name": "stdout",
     "output_type": "stream",
     "text": [
      "[ 0.08040065  0.05829919  0.04735239  0.03945478  0.02985835  0.02692535\n",
      "  0.02211641  0.02183765  0.02151569  0.02055138  0.02003921  0.01999166\n",
      "  0.01981391  0.01976904  0.01961167  0.01956225  0.01955071  0.01943055\n",
      "  0.01937438  0.01933051  0.01931323  0.0191841   0.01917801  0.01912883\n",
      "  0.0190931   0.01905466  0.01901089  0.01899969  0.01895545  0.01894515\n",
      "  0.01892227  0.01890934  0.01890203]\n"
     ]
    }
   ],
   "source": [
    "# 寄与率を出力\n",
    "# 各主成分の寄与率がarrayの形式で入っている\n",
    "# [第一主成分の寄与率 第二主成分の寄与率 ...]\n",
    "print(pca.explained_variance_ratio_)"
   ]
  },
  {
   "cell_type": "code",
   "execution_count": 49,
   "metadata": {},
   "outputs": [
    {
     "data": {
      "text/plain": [
       "array([[-2.18394454,  2.91461362, -2.71500141, ..., -0.01751123,\n",
       "         0.01005081,  0.01956417],\n",
       "       [-2.15529519,  2.83903249, -2.89179575, ..., -0.02198374,\n",
       "         0.00897624,  0.020893  ],\n",
       "       [-2.97151825,  2.83464541, -2.56011621, ..., -1.02240366,\n",
       "         0.2651305 ,  0.32665752],\n",
       "       ..., \n",
       "       [ 0.5361217 , -0.42911169,  2.74297697, ...,  0.16075813,\n",
       "         0.05948334,  0.04657638],\n",
       "       [ 0.62926357, -1.22256704,  1.91745569, ...,  0.14269987,\n",
       "         0.05430833,  0.04271136],\n",
       "       [ 0.67371058, -2.16665241,  1.16934686, ..., -0.10437834,\n",
       "         0.23439289,  0.04569864]])"
      ]
     },
     "execution_count": 49,
     "metadata": {},
     "output_type": "execute_result"
    }
   ],
   "source": [
    "X_pca"
   ]
  },
  {
   "cell_type": "code",
   "execution_count": 50,
   "metadata": {},
   "outputs": [
    {
     "name": "stdout",
     "output_type": "stream",
     "text": [
      "[ 0.08040065  0.13869985  0.18605224  0.22550702  0.25536537  0.28229072\n",
      "  0.30440713  0.32624478  0.34776047  0.36831185  0.38835106  0.40834272\n",
      "  0.42815663  0.44792567  0.46753734  0.48709959  0.5066503   0.52608085\n",
      "  0.54545522  0.56478574  0.58409896  0.60328307  0.62246108  0.64158991\n",
      "  0.66068301  0.67973767  0.69874856  0.71774825  0.7367037   0.75564885\n",
      "  0.77457111  0.79348045  0.81238248]\n"
     ]
    }
   ],
   "source": [
    "# 累積寄与率を出力\n",
    "# np.cumsum()で固有値の累積をとる\n",
    "# [第1主成分までの累積寄与率 第2主成分までの累積寄与率 ...]\n",
    "print(np.cumsum(pca.explained_variance_ratio_))"
   ]
  },
  {
   "cell_type": "code",
   "execution_count": 51,
   "metadata": {},
   "outputs": [
    {
     "data": {
      "text/plain": [
       "0.61395502645502642"
      ]
     },
     "execution_count": 51,
     "metadata": {},
     "output_type": "execute_result"
    }
   ],
   "source": [
    "# SVMで分類\n",
    "from sklearn.svm import SVC\n",
    "from sklearn.model_selection import cross_val_score\n",
    "scores_2 = cross_val_score(SVC(), X_pca, y, cv=5)\n",
    "scores_2.mean()"
   ]
  },
  {
   "cell_type": "code",
   "execution_count": null,
   "metadata": {
    "collapsed": true
   },
   "outputs": [],
   "source": []
  }
 ],
 "metadata": {
  "kernelspec": {
   "display_name": "Python 3",
   "language": "python",
   "name": "python3"
  },
  "language_info": {
   "codemirror_mode": {
    "name": "ipython",
    "version": 3
   },
   "file_extension": ".py",
   "mimetype": "text/x-python",
   "name": "python",
   "nbconvert_exporter": "python",
   "pygments_lexer": "ipython3",
   "version": "3.6.3"
  }
 },
 "nbformat": 4,
 "nbformat_minor": 2
}
